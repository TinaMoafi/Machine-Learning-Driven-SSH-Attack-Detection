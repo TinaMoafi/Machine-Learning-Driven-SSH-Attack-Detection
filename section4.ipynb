{
  "cells": [
    {
      "cell_type": "markdown",
      "metadata": {
        "id": "w874mU57EDcY"
      },
      "source": [
        "#1. SET *UP*"
      ]
    },
    {
      "cell_type": "markdown",
      "metadata": {
        "id": "F7nI2L5ZEILS"
      },
      "source": [
        "\n",
        "Google Colab offers free GPUs and TPUs! Since we'll be training a large neural network it's best to take advantage of this (in this case we'll attach a GPU), otherwise training will take a very long time.\n",
        "\n",
        "we will run the following cell to confirm that the GPU is detected."
      ]
    },
    {
      "cell_type": "code",
      "execution_count": null,
      "metadata": {
        "colab": {
          "base_uri": "https://localhost:8080/"
        },
        "id": "XBHlU2FSyERq",
        "outputId": "504c04b0-1d99-4fac-bf42-a869a18bcc09"
      },
      "outputs": [
        {
          "output_type": "stream",
          "name": "stdout",
          "text": [
            "Found GPU at: /device:GPU:0\n"
          ]
        }
      ],
      "source": [
        "import tensorflow as tf\n",
        "\n",
        "\n",
        "device_name = tf.test.gpu_device_name()\n",
        "\n",
        "if device_name == '/device:GPU:0':\n",
        "    print('Found GPU at: {}'.format(device_name))\n",
        "else:\n",
        "    raise SystemError('GPU device not found')"
      ]
    },
    {
      "cell_type": "markdown",
      "metadata": {
        "id": "rqo6PHBCGwy-"
      },
      "source": [
        "In order for torch to use the GPU, we need to identify and specify the GPU as the device. Later, in our training loop, we will load data onto the device."
      ]
    },
    {
      "cell_type": "code",
      "execution_count": null,
      "metadata": {
        "colab": {
          "base_uri": "https://localhost:8080/"
        },
        "id": "nsdKIlb-yXLu",
        "outputId": "23c247fc-3f0d-4ea5-a81f-bf5baed09dcd"
      },
      "outputs": [
        {
          "output_type": "stream",
          "name": "stdout",
          "text": [
            "There are 1 GPU(s) available.\n",
            "We will use the GPU: Tesla T4\n"
          ]
        }
      ],
      "source": [
        "import torch\n",
        "\n",
        "\n",
        "if torch.cuda.is_available():\n",
        "\n",
        "    device = torch.device(\"cuda\")\n",
        "\n",
        "    print('There are %d GPU(s) available.' % torch.cuda.device_count())\n",
        "\n",
        "    print('We will use the GPU:', torch.cuda.get_device_name(0))\n",
        "\n",
        "else:\n",
        "    print('No GPU available, using the CPU instead.')\n",
        "    device = torch.device(\"cpu\")"
      ]
    },
    {
      "cell_type": "markdown",
      "metadata": {
        "id": "1JJ6QGLJG5FW"
      },
      "source": [
        "Next, let's install the transformers package from Hugging Face which will give us a pytorch interface for working with BERT. we install other usefull libraries as well. and then we import what we need to go on in these tasks."
      ]
    },
    {
      "cell_type": "code",
      "execution_count": null,
      "metadata": {
        "id": "3aRvnox5yJdD"
      },
      "outputs": [],
      "source": [
        "import pandas as pd\n",
        "import numpy as np\n",
        "from sklearn.model_selection import train_test_split\n",
        "from transformers import BertTokenizer, BertForSequenceClassification, AdamW, get_linear_schedule_with_warmup , Trainer, TrainingArguments\n",
        "from torch.utils.data import DataLoader, TensorDataset, RandomSampler, SequentialSampler\n",
        "from sklearn.metrics import f1_score, accuracy_score\n",
        "import time\n",
        "import datetime\n",
        "import random"
      ]
    },
    {
      "cell_type": "markdown",
      "metadata": {
        "id": "oeaXzp8pEHFK"
      },
      "source": [
        "# 2. Loading Dataset"
      ]
    },
    {
      "cell_type": "markdown",
      "metadata": {
        "id": "8ibEW3xEH3bq"
      },
      "source": [
        "First we upload the data set to the google colab."
      ]
    },
    {
      "cell_type": "code",
      "execution_count": null,
      "metadata": {
        "colab": {
          "base_uri": "https://localhost:8080/",
          "height": 73
        },
        "id": "ILz9_6-zym12",
        "outputId": "af14993c-36ab-4711-cdf6-bd408913de6b"
      },
      "outputs": [
        {
          "output_type": "display_data",
          "data": {
            "text/plain": [
              "<IPython.core.display.HTML object>"
            ],
            "text/html": [
              "\n",
              "     <input type=\"file\" id=\"files-fa5b6504-3944-4fbe-a266-419c4f78faa0\" name=\"files[]\" multiple disabled\n",
              "        style=\"border:none\" />\n",
              "     <output id=\"result-fa5b6504-3944-4fbe-a266-419c4f78faa0\">\n",
              "      Upload widget is only available when the cell has been executed in the\n",
              "      current browser session. Please rerun this cell to enable.\n",
              "      </output>\n",
              "      <script>// Copyright 2017 Google LLC\n",
              "//\n",
              "// Licensed under the Apache License, Version 2.0 (the \"License\");\n",
              "// you may not use this file except in compliance with the License.\n",
              "// You may obtain a copy of the License at\n",
              "//\n",
              "//      http://www.apache.org/licenses/LICENSE-2.0\n",
              "//\n",
              "// Unless required by applicable law or agreed to in writing, software\n",
              "// distributed under the License is distributed on an \"AS IS\" BASIS,\n",
              "// WITHOUT WARRANTIES OR CONDITIONS OF ANY KIND, either express or implied.\n",
              "// See the License for the specific language governing permissions and\n",
              "// limitations under the License.\n",
              "\n",
              "/**\n",
              " * @fileoverview Helpers for google.colab Python module.\n",
              " */\n",
              "(function(scope) {\n",
              "function span(text, styleAttributes = {}) {\n",
              "  const element = document.createElement('span');\n",
              "  element.textContent = text;\n",
              "  for (const key of Object.keys(styleAttributes)) {\n",
              "    element.style[key] = styleAttributes[key];\n",
              "  }\n",
              "  return element;\n",
              "}\n",
              "\n",
              "// Max number of bytes which will be uploaded at a time.\n",
              "const MAX_PAYLOAD_SIZE = 100 * 1024;\n",
              "\n",
              "function _uploadFiles(inputId, outputId) {\n",
              "  const steps = uploadFilesStep(inputId, outputId);\n",
              "  const outputElement = document.getElementById(outputId);\n",
              "  // Cache steps on the outputElement to make it available for the next call\n",
              "  // to uploadFilesContinue from Python.\n",
              "  outputElement.steps = steps;\n",
              "\n",
              "  return _uploadFilesContinue(outputId);\n",
              "}\n",
              "\n",
              "// This is roughly an async generator (not supported in the browser yet),\n",
              "// where there are multiple asynchronous steps and the Python side is going\n",
              "// to poll for completion of each step.\n",
              "// This uses a Promise to block the python side on completion of each step,\n",
              "// then passes the result of the previous step as the input to the next step.\n",
              "function _uploadFilesContinue(outputId) {\n",
              "  const outputElement = document.getElementById(outputId);\n",
              "  const steps = outputElement.steps;\n",
              "\n",
              "  const next = steps.next(outputElement.lastPromiseValue);\n",
              "  return Promise.resolve(next.value.promise).then((value) => {\n",
              "    // Cache the last promise value to make it available to the next\n",
              "    // step of the generator.\n",
              "    outputElement.lastPromiseValue = value;\n",
              "    return next.value.response;\n",
              "  });\n",
              "}\n",
              "\n",
              "/**\n",
              " * Generator function which is called between each async step of the upload\n",
              " * process.\n",
              " * @param {string} inputId Element ID of the input file picker element.\n",
              " * @param {string} outputId Element ID of the output display.\n",
              " * @return {!Iterable<!Object>} Iterable of next steps.\n",
              " */\n",
              "function* uploadFilesStep(inputId, outputId) {\n",
              "  const inputElement = document.getElementById(inputId);\n",
              "  inputElement.disabled = false;\n",
              "\n",
              "  const outputElement = document.getElementById(outputId);\n",
              "  outputElement.innerHTML = '';\n",
              "\n",
              "  const pickedPromise = new Promise((resolve) => {\n",
              "    inputElement.addEventListener('change', (e) => {\n",
              "      resolve(e.target.files);\n",
              "    });\n",
              "  });\n",
              "\n",
              "  const cancel = document.createElement('button');\n",
              "  inputElement.parentElement.appendChild(cancel);\n",
              "  cancel.textContent = 'Cancel upload';\n",
              "  const cancelPromise = new Promise((resolve) => {\n",
              "    cancel.onclick = () => {\n",
              "      resolve(null);\n",
              "    };\n",
              "  });\n",
              "\n",
              "  // Wait for the user to pick the files.\n",
              "  const files = yield {\n",
              "    promise: Promise.race([pickedPromise, cancelPromise]),\n",
              "    response: {\n",
              "      action: 'starting',\n",
              "    }\n",
              "  };\n",
              "\n",
              "  cancel.remove();\n",
              "\n",
              "  // Disable the input element since further picks are not allowed.\n",
              "  inputElement.disabled = true;\n",
              "\n",
              "  if (!files) {\n",
              "    return {\n",
              "      response: {\n",
              "        action: 'complete',\n",
              "      }\n",
              "    };\n",
              "  }\n",
              "\n",
              "  for (const file of files) {\n",
              "    const li = document.createElement('li');\n",
              "    li.append(span(file.name, {fontWeight: 'bold'}));\n",
              "    li.append(span(\n",
              "        `(${file.type || 'n/a'}) - ${file.size} bytes, ` +\n",
              "        `last modified: ${\n",
              "            file.lastModifiedDate ? file.lastModifiedDate.toLocaleDateString() :\n",
              "                                    'n/a'} - `));\n",
              "    const percent = span('0% done');\n",
              "    li.appendChild(percent);\n",
              "\n",
              "    outputElement.appendChild(li);\n",
              "\n",
              "    const fileDataPromise = new Promise((resolve) => {\n",
              "      const reader = new FileReader();\n",
              "      reader.onload = (e) => {\n",
              "        resolve(e.target.result);\n",
              "      };\n",
              "      reader.readAsArrayBuffer(file);\n",
              "    });\n",
              "    // Wait for the data to be ready.\n",
              "    let fileData = yield {\n",
              "      promise: fileDataPromise,\n",
              "      response: {\n",
              "        action: 'continue',\n",
              "      }\n",
              "    };\n",
              "\n",
              "    // Use a chunked sending to avoid message size limits. See b/62115660.\n",
              "    let position = 0;\n",
              "    do {\n",
              "      const length = Math.min(fileData.byteLength - position, MAX_PAYLOAD_SIZE);\n",
              "      const chunk = new Uint8Array(fileData, position, length);\n",
              "      position += length;\n",
              "\n",
              "      const base64 = btoa(String.fromCharCode.apply(null, chunk));\n",
              "      yield {\n",
              "        response: {\n",
              "          action: 'append',\n",
              "          file: file.name,\n",
              "          data: base64,\n",
              "        },\n",
              "      };\n",
              "\n",
              "      let percentDone = fileData.byteLength === 0 ?\n",
              "          100 :\n",
              "          Math.round((position / fileData.byteLength) * 100);\n",
              "      percent.textContent = `${percentDone}% done`;\n",
              "\n",
              "    } while (position < fileData.byteLength);\n",
              "  }\n",
              "\n",
              "  // All done.\n",
              "  yield {\n",
              "    response: {\n",
              "      action: 'complete',\n",
              "    }\n",
              "  };\n",
              "}\n",
              "\n",
              "scope.google = scope.google || {};\n",
              "scope.google.colab = scope.google.colab || {};\n",
              "scope.google.colab._files = {\n",
              "  _uploadFiles,\n",
              "  _uploadFilesContinue,\n",
              "};\n",
              "})(self);\n",
              "</script> "
            ]
          },
          "metadata": {}
        },
        {
          "output_type": "stream",
          "name": "stdout",
          "text": [
            "Saving ssh_attacks.parquet to ssh_attacks.parquet\n"
          ]
        }
      ],
      "source": [
        "from google.colab import files\n",
        "uploaded = files.upload()"
      ]
    },
    {
      "cell_type": "markdown",
      "metadata": {
        "id": "UOtGCYpHIDK8"
      },
      "source": [
        "We load the dataset and print the dimension of the dataset. it contains 233035 rows and 4 columns."
      ]
    },
    {
      "cell_type": "code",
      "execution_count": null,
      "metadata": {
        "colab": {
          "base_uri": "https://localhost:8080/"
        },
        "id": "l1KDDpEwCKos",
        "outputId": "cdf7276e-2cb8-4cbc-e211-14dc1f01070f"
      },
      "outputs": [
        {
          "output_type": "stream",
          "name": "stdout",
          "text": [
            "Shape of the dataframe: (233035, 4)\n"
          ]
        }
      ],
      "source": [
        "df = pd.read_parquet('ssh_attacks.parquet')\n",
        "\n",
        "# Print the shape of the dataframe\n",
        "print(\"Shape of the dataframe:\", df.shape)"
      ]
    },
    {
      "cell_type": "code",
      "execution_count": null,
      "metadata": {
        "colab": {
          "base_uri": "https://localhost:8080/"
        },
        "id": "bGBjU3M4zW2M",
        "outputId": "5bb5c002-74d7-4b7c-dc72-b62390046b35"
      },
      "outputs": [
        {
          "output_type": "stream",
          "name": "stdout",
          "text": [
            "Shape of the dataframe: (100000, 12)\n"
          ]
        }
      ],
      "source": [
        "# Taking a subset of the data\n",
        "df = df.sample(n=100000, random_state=17)\n",
        "\n",
        "# Preprocessing: Convert labels to binary columns for each intent\n",
        "intents = ['Persistence', 'Discovery', 'Defense Evasion', 'Execution', 'Impact', 'Other', 'Harmless']\n",
        "\n",
        "for intent in intents:\n",
        "    df[intent] = df['Set_Fingerprint'].apply(lambda x: 1 if intent in x else 0)\n",
        "\n",
        "# Preparation of the dataset for sequence classification\n",
        "df['labels'] = df.apply(lambda row: [row[intent] for intent in intents], axis=1)\n",
        "\n",
        "train_df, test_df = train_test_split(df, test_size=0.2, random_state=17)\n",
        "\n",
        "print(\"Shape of the dataframe:\", df.shape)"
      ]
    },
    {
      "cell_type": "markdown",
      "metadata": {
        "id": "FQWzWIIBEHZ-"
      },
      "source": [
        "# 3. Tokenization & Input Formatting"
      ]
    },
    {
      "cell_type": "markdown",
      "metadata": {
        "id": "HOIdoV8K11cx"
      },
      "source": [
        "In this section, we’ll transform our dataset into the format that BERT can be trained on. Before we can do that, though, we need BERT’s formatting requirements.\n",
        "\n",
        "We are required to:\n",
        "\n",
        "Add special tokens to the start and end of each sentence. Pad & truncate all sentences to a single constant length. Explicitly differentiate real tokens from padding tokens with the “attention mask”. The “Attention Mask” is simply an array of 1s and 0s indicating which tokens are padding and which aren’t\n",
        "\n",
        "For classification tasks, we must prepend the special [CLS] token to the beginning of every sentence.\n",
        "\n",
        "This token has special significance. BERT consists of 12 Transformer layers. Each transformer takes in a list of token embeddings, and produces the same number of embeddings on the output (but with the feature values changed, of course!).\n",
        "\n",
        "On the output of the final (12th) transformer, only the first embedding (corresponding to the [CLS] token) is used by the classifier."
      ]
    },
    {
      "cell_type": "markdown",
      "metadata": {
        "id": "L7Bzbo5CWQK0"
      },
      "source": [
        "Before we are ready to encode our text, though, we need to decide on a maximum sentence length for padding / truncating to.\n",
        "\n",
        "The below cell will perform one tokenization pass of the dataset in order to measure the maximum sentence length."
      ]
    },
    {
      "cell_type": "code",
      "execution_count": null,
      "metadata": {
        "id": "ns-dTCUXJAQP"
      },
      "outputs": [],
      "source": [
        "#lists of sentences and their labels\n",
        "sentences = df.full_session.values\n",
        "labels = df.labels.values"
      ]
    },
    {
      "cell_type": "code",
      "execution_count": null,
      "metadata": {
        "colab": {
          "base_uri": "https://localhost:8080/"
        },
        "id": "ZsvoIKGpWOpM",
        "outputId": "d686c7a6-666f-45ef-e0dc-3624f4c885cf"
      },
      "outputs": [
        {
          "output_type": "stream",
          "name": "stdout",
          "text": [
            "Loading BERT tokenizer...\n",
            "Max sentence length:  128\n"
          ]
        }
      ],
      "source": [
        "from transformers import BertTokenizer\n",
        "\n",
        "\n",
        "print('Loading BERT tokenizer...')\n",
        "tokenizer = BertTokenizer.from_pretrained('bert-base-uncased', do_lower_case=True)\n",
        "\n",
        "max_len = 0\n",
        "max_sequence_length = 128\n",
        "\n",
        "\n",
        "for sent in sentences:\n",
        "\n",
        "\n",
        "    input_ids = tokenizer.encode(sent, add_special_tokens=True, max_length=max_sequence_length, truncation=True)\n",
        "\n",
        "\n",
        "    max_len = max(max_len, len(input_ids))\n",
        "\n",
        "print('Max sentence length: ', max_len)"
      ]
    },
    {
      "cell_type": "code",
      "execution_count": null,
      "metadata": {
        "id": "pbju2XC4z31o"
      },
      "outputs": [],
      "source": [
        "# function to tokenize the text and create attention masks\n",
        "def tokenize_function(sentences, labels, tokenizer, max_length):\n",
        "    input_ids = []\n",
        "    attention_masks = []\n",
        "    for sent in sentences:\n",
        "        encoded_dict = tokenizer.encode_plus(\n",
        "            sent,                      # Sentence to encode.\n",
        "            add_special_tokens=True,   # Add '[CLS]' and '[SEP]'\n",
        "            max_length=max_length,     # Pad & truncate all sentences.\n",
        "            pad_to_max_length=True,\n",
        "            return_attention_mask=True,  # Construct attn. masks.\n",
        "            return_tensors='pt',       # Return pytorch tensors.\n",
        "            truncation=True,\n",
        "        )\n",
        "\n",
        "        input_ids.append(encoded_dict['input_ids'])\n",
        "        attention_masks.append(encoded_dict['attention_mask'])\n",
        "\n",
        "    return torch.cat(input_ids, dim=0), torch.cat(attention_masks, dim=0), torch.tensor(labels, dtype=torch.float16)\n"
      ]
    },
    {
      "cell_type": "markdown",
      "metadata": {
        "id": "kE2wORyB2CJB"
      },
      "source": [
        "To feed our text to BERT, it must be split into tokens, and then these tokens must be mapped to their index in the tokenizer vocabulary.\n",
        "\n",
        "The tokenization must be performed by the tokenizer included with BERT–the below cell will download this for us. We’ll be using the “uncased” version here."
      ]
    },
    {
      "cell_type": "code",
      "execution_count": null,
      "metadata": {
        "colab": {
          "base_uri": "https://localhost:8080/"
        },
        "id": "w3ekoKH-zecF",
        "outputId": "37b01ab5-7c68-45c1-a43b-9a3da550410c"
      },
      "outputs": [
        {
          "output_type": "stream",
          "name": "stderr",
          "text": [
            "/usr/local/lib/python3.10/dist-packages/transformers/tokenization_utils_base.py:2699: FutureWarning: The `pad_to_max_length` argument is deprecated and will be removed in a future version, use `padding=True` or `padding='longest'` to pad to the longest sequence in the batch, or use `padding='max_length'` to pad to a max length. In this case, you can give a specific length with `max_length` (e.g. `max_length=45`) or leave max_length to None to pad to the maximal input size of the model (e.g. 512 for Bert).\n",
            "  warnings.warn(\n",
            "/usr/local/lib/python3.10/dist-packages/transformers/tokenization_utils_base.py:2699: FutureWarning: The `pad_to_max_length` argument is deprecated and will be removed in a future version, use `padding=True` or `padding='longest'` to pad to the longest sequence in the batch, or use `padding='max_length'` to pad to a max length. In this case, you can give a specific length with `max_length` (e.g. `max_length=45`) or leave max_length to None to pad to the maximal input size of the model (e.g. 512 for Bert).\n",
            "  warnings.warn(\n"
          ]
        }
      ],
      "source": [
        "# Tokenize the training and test data\n",
        "tokenizer = BertTokenizer.from_pretrained('bert-base-uncased', do_lower_case=True)\n",
        "\n",
        "train_inputs, train_masks, train_labels = tokenize_function(train_df.full_session.values, train_df[intents].values, tokenizer, max_length=128)\n",
        "test_inputs, test_masks, test_labels = tokenize_function(test_df.full_session.values, test_df[intents].values, tokenizer, max_length=128)"
      ]
    },
    {
      "cell_type": "markdown",
      "metadata": {
        "id": "GnM8X_fB3HpL"
      },
      "source": [
        "We’ll also create an iterator for our dataset using the torch DataLoader class. This helps save on memory during training because, unlike a for loop, with an iterator the entire dataset does not need to be loaded into memory."
      ]
    },
    {
      "cell_type": "code",
      "execution_count": null,
      "metadata": {
        "id": "tXTdkU46zk5M"
      },
      "outputs": [],
      "source": [
        "#DataLoader\n",
        "batch_size = 32\n",
        "\n",
        "train_data = TensorDataset(train_inputs, train_masks, train_labels)\n",
        "train_sampler = RandomSampler(train_data)\n",
        "train_dataloader = DataLoader(train_data, sampler=train_sampler, batch_size=batch_size)\n",
        "\n",
        "test_data = TensorDataset(test_inputs, test_masks, test_labels)\n",
        "test_sampler = SequentialSampler(test_data)\n",
        "test_dataloader = DataLoader(test_data, sampler=test_sampler, batch_size=batch_size)"
      ]
    },
    {
      "cell_type": "markdown",
      "metadata": {
        "id": "ssZ1Sm_jEH33"
      },
      "source": [
        "# 4. Train Our Classification Model"
      ]
    },
    {
      "cell_type": "markdown",
      "metadata": {
        "id": "ZIBQoAyN3jLb"
      },
      "source": [
        "For this task, we first want to modify the pre-trained BERT model to give outputs for classification, and then we want to continue training the model on our dataset until that the entire model, end-to-end, is well-suited for our task.\n",
        "\n",
        "Here we use a custome class. \"BertForMultiLabelSequenceClassification\" is a custom implementation that extends BertForSequenceClassification from the HuggingFace transformers library. It is designed to handle multi-label classification tasks, where each instance can belong to multiple classes simultaneously. The class inherits from BertForSequenceClassification, which means it gains all the properties and methods of that base class.\n",
        "\n",
        "\"BCEWithLogitsLoss\" is the loss function used here. This stands for Binary Cross-Entropy with Logits Loss, which is suitable for multi-label classification. It combines a sigmoid layer and binary cross-entropy loss in a single class, making it useful for training models where each instance can have multiple binary labels.\n",
        "\n",
        "The forward method defines how the input data passes through the model. This is where the main computations of the model occur.\n",
        "\n",
        "BERT Outputs: The BERT model processes the inputs and produces several outputs:\n",
        "\n",
        "outputs[0]: The last hidden state of the sequence.\n",
        "outputs[1]: The pooled output (i.e., the representation of the [CLS] token).\n",
        "Dropout: The pooled output is passed through a dropout layer. Dropout is a regularization technique used to prevent overfitting by randomly setting a fraction of input units to 0 at each update during training.\n",
        "\n",
        "Classification Layer: The dropout output is then passed through a classification layer to obtain the logits. These logits are the raw, unnormalized scores for each class.\n",
        "\n",
        "he method returns a dictionary containing the computed loss (if labels are provided) and the logits. The logits can be used to make predictions, and the loss is used during training to update the model's weights."
      ]
    },
    {
      "cell_type": "code",
      "execution_count": null,
      "metadata": {
        "colab": {
          "base_uri": "https://localhost:8080/",
          "height": 138,
          "referenced_widgets": [
            "b054009bbf1248c1b46b7af08212484b",
            "dea2f441cab24224a23740f5581d8045",
            "f3bbf2398d024574936a1f6c2a205cd0",
            "c75dc4b937ff405b923176306b2fc817",
            "93a9407b3e6c4d9484ee038546bcdaa5",
            "2c9542466c7b49ee96334d13f75fa533",
            "e7f14b7e0ab44c2ba9bbb9b816915be7",
            "ef744572a1234e76b2537309438ea9be",
            "0fb5d8247c784ab38ed124bfe45fbeaa",
            "23530dc1bdb543adbf25dfd363240a6f",
            "aa3018cf026c424f9766400b7a77cb9c"
          ]
        },
        "id": "HW9PcueuzonT",
        "outputId": "40d80e52-abf8-43b7-8fc5-39928689aa9d"
      },
      "outputs": [
        {
          "output_type": "display_data",
          "data": {
            "text/plain": [
              "model.safetensors:   0%|          | 0.00/440M [00:00<?, ?B/s]"
            ],
            "application/vnd.jupyter.widget-view+json": {
              "version_major": 2,
              "version_minor": 0,
              "model_id": "b054009bbf1248c1b46b7af08212484b"
            }
          },
          "metadata": {}
        },
        {
          "output_type": "stream",
          "name": "stderr",
          "text": [
            "Some weights of BertForMultiLabelSequenceClassification were not initialized from the model checkpoint at bert-base-uncased and are newly initialized: ['classifier.bias', 'classifier.weight']\n",
            "You should probably TRAIN this model on a down-stream task to be able to use it for predictions and inference.\n",
            "/usr/local/lib/python3.10/dist-packages/transformers/optimization.py:588: FutureWarning: This implementation of AdamW is deprecated and will be removed in a future version. Use the PyTorch implementation torch.optim.AdamW instead, or set `no_deprecation_warning=True` to disable this warning\n",
            "  warnings.warn(\n"
          ]
        }
      ],
      "source": [
        "from torch.nn import BCEWithLogitsLoss\n",
        "\n",
        "class BertForMultiLabelSequenceClassification(BertForSequenceClassification):\n",
        "    def __init__(self, config):\n",
        "        super().__init__(config)\n",
        "        self.loss_fct = BCEWithLogitsLoss()\n",
        "\n",
        "    def forward(self, input_ids=None, attention_mask=None, token_type_ids=None, labels=None, **kwargs):\n",
        "        outputs = self.bert(input_ids, attention_mask=attention_mask, token_type_ids=token_type_ids, **kwargs)\n",
        "        pooled_output = outputs[1]\n",
        "        pooled_output = self.dropout(pooled_output)\n",
        "        logits = self.classifier(pooled_output)\n",
        "\n",
        "        loss = None\n",
        "        if labels is not None:\n",
        "            loss = self.loss_fct(logits, labels.float())\n",
        "\n",
        "        return {\"loss\": loss, \"logits\": logits}\n",
        "\n",
        "model = BertForMultiLabelSequenceClassification.from_pretrained(\n",
        "    \"bert-base-uncased\",\n",
        "    num_labels=len(intents),\n",
        "    output_attentions=False,\n",
        "    output_hidden_states=False,\n",
        ")\n",
        "\n",
        "optimizer = AdamW(model.parameters(), lr=2e-5, eps=1e-8)\n",
        "\n",
        "# Total number of training steps\n",
        "total_steps = len(train_dataloader) * 3\n",
        "\n",
        "# Create the learning rate scheduler\n",
        "scheduler = get_linear_schedule_with_warmup(optimizer, num_warmup_steps=0, num_training_steps=total_steps)\n"
      ]
    },
    {
      "cell_type": "markdown",
      "metadata": {
        "id": "BNSeHkbP5EfY"
      },
      "source": [
        "the train function trains the BERT model for one epoch."
      ]
    },
    {
      "cell_type": "code",
      "execution_count": null,
      "metadata": {
        "id": "qXjty4xo6bWy"
      },
      "outputs": [],
      "source": [
        "def format_time(elapsed):\n",
        "    return str(datetime.timedelta(seconds=int(round((elapsed)))))\n",
        "\n",
        "def train(model, optimizer, scheduler, train_dataloader, device):\n",
        "    total_loss = 0\n",
        "    model.train()\n",
        "\n",
        "    for step, batch in enumerate(train_dataloader):\n",
        "        if step % 100 == 0 and not step == 0:\n",
        "            elapsed = format_time(time.time() - t0)\n",
        "            print(f'Batch {step} of {len(train_dataloader)}. Elapsed: {elapsed}.')\n",
        "\n",
        "        b_input_ids, b_input_mask, b_labels = batch\n",
        "        b_input_ids = b_input_ids.to(device)\n",
        "        b_input_mask = b_input_mask.to(device)\n",
        "        b_labels = b_labels.to(device)\n",
        "\n",
        "        model.zero_grad()\n",
        "\n",
        "        outputs = model(b_input_ids, token_type_ids=None, attention_mask=b_input_mask, labels=b_labels)\n",
        "        loss = outputs[\"loss\"]\n",
        "        total_loss += loss.item()\n",
        "        loss.backward()\n",
        "\n",
        "        torch.nn.utils.clip_grad_norm_(model.parameters(), 1.0)\n",
        "\n",
        "        optimizer.step()\n",
        "        scheduler.step()\n",
        "\n",
        "    avg_train_loss = total_loss / len(train_dataloader)\n",
        "    return avg_train_loss\n",
        "\n",
        "def evaluate(model, test_dataloader, device):\n",
        "    model.eval()\n",
        "\n",
        "    total_eval_accuracy = 0\n",
        "    total_eval_f1 = 0\n",
        "    total_eval_loss = 0\n",
        "\n",
        "    for batch in test_dataloader:\n",
        "        b_input_ids, b_input_mask, b_labels = batch\n",
        "        b_input_ids = b_input_ids.to(device)\n",
        "        b_input_mask = b_input_mask.to(device)\n",
        "        b_labels = b_labels.to(device)\n",
        "\n",
        "        with torch.no_grad():\n",
        "            outputs = model(b_input_ids, token_type_ids=None, attention_mask=b_input_mask, labels=b_labels)\n",
        "\n",
        "        loss = outputs[\"loss\"]\n",
        "        logits = outputs[\"logits\"]\n",
        "\n",
        "        total_eval_loss += loss.item()\n",
        "\n",
        "        logits = logits.detach().cpu().numpy()\n",
        "        label_ids = b_labels.to('cpu').numpy()\n",
        "\n",
        "        pred_flat = np.where(logits >= 0.5, 1, 0)\n",
        "\n",
        "        total_eval_accuracy += accuracy_score(label_ids, pred_flat)\n",
        "        total_eval_f1 += f1_score(label_ids, pred_flat, average='weighted', zero_division=1)  # Adjusted here\n",
        "\n",
        "    avg_val_accuracy = total_eval_accuracy / len(test_dataloader)\n",
        "    avg_val_f1 = total_eval_f1 / len(test_dataloader)\n",
        "    avg_val_loss = total_eval_loss / len(test_dataloader)\n",
        "\n",
        "    return avg_val_loss, avg_val_accuracy, avg_val_f1\n"
      ]
    },
    {
      "cell_type": "code",
      "execution_count": null,
      "metadata": {
        "id": "ISqwZAh16qm_"
      },
      "outputs": [],
      "source": [
        "device = torch.device(\"cuda\" if torch.cuda.is_available() else \"cpu\")\n",
        "model.to(device)\n",
        "\n",
        "epochs = 3\n",
        "\n",
        "training_stats = []"
      ]
    },
    {
      "cell_type": "markdown",
      "metadata": {
        "id": "6c7fx80f5ho-"
      },
      "source": [
        "Here we tran and Plot the Learning Curve and Training and Validation Loss"
      ]
    },
    {
      "cell_type": "code",
      "execution_count": null,
      "metadata": {
        "colab": {
          "base_uri": "https://localhost:8080/",
          "height": 1000
        },
        "id": "N_bLXeZoonSU",
        "outputId": "d7959f73-4478-406d-d285-3601bc4587c2"
      },
      "outputs": [
        {
          "output_type": "stream",
          "name": "stdout",
          "text": [
            "Epoch 1/3\n",
            "Training...\n",
            "Batch 100 of 2500. Elapsed: 0:01:11.\n",
            "Batch 200 of 2500. Elapsed: 0:02:20.\n",
            "Batch 300 of 2500. Elapsed: 0:03:29.\n",
            "Batch 400 of 2500. Elapsed: 0:04:38.\n",
            "Batch 500 of 2500. Elapsed: 0:05:47.\n",
            "Batch 600 of 2500. Elapsed: 0:06:57.\n",
            "Batch 700 of 2500. Elapsed: 0:08:06.\n",
            "Batch 800 of 2500. Elapsed: 0:09:15.\n",
            "Batch 900 of 2500. Elapsed: 0:10:23.\n",
            "Batch 1000 of 2500. Elapsed: 0:11:32.\n",
            "Batch 1100 of 2500. Elapsed: 0:12:41.\n",
            "Batch 1200 of 2500. Elapsed: 0:13:50.\n",
            "Batch 1300 of 2500. Elapsed: 0:15:00.\n",
            "Batch 1400 of 2500. Elapsed: 0:16:09.\n",
            "Batch 1500 of 2500. Elapsed: 0:17:18.\n",
            "Batch 1600 of 2500. Elapsed: 0:18:27.\n",
            "Batch 1700 of 2500. Elapsed: 0:19:36.\n",
            "Batch 1800 of 2500. Elapsed: 0:20:45.\n",
            "Batch 1900 of 2500. Elapsed: 0:21:54.\n",
            "Batch 2000 of 2500. Elapsed: 0:23:03.\n",
            "Batch 2100 of 2500. Elapsed: 0:24:12.\n",
            "Batch 2200 of 2500. Elapsed: 0:25:21.\n",
            "Batch 2300 of 2500. Elapsed: 0:26:30.\n",
            "Batch 2400 of 2500. Elapsed: 0:27:39.\n",
            "Average training loss: 0.030647125404141842\n",
            "Training epoch took: 0:28:49\n",
            "Evaluating...\n",
            "Validation Loss: 0.0158850578289479\n",
            "Validation Accuracy: 0.98005\n",
            "Validation F1 Score: 0.9936642226546619\n",
            "Validation took: 0:02:19\n",
            "Epoch 2/3\n",
            "Training...\n",
            "Batch 100 of 2500. Elapsed: 0:01:09.\n",
            "Batch 200 of 2500. Elapsed: 0:02:18.\n",
            "Batch 300 of 2500. Elapsed: 0:03:27.\n",
            "Batch 400 of 2500. Elapsed: 0:04:36.\n",
            "Batch 500 of 2500. Elapsed: 0:05:45.\n",
            "Batch 600 of 2500. Elapsed: 0:06:54.\n",
            "Batch 700 of 2500. Elapsed: 0:08:03.\n",
            "Batch 800 of 2500. Elapsed: 0:09:12.\n",
            "Batch 900 of 2500. Elapsed: 0:10:21.\n",
            "Batch 1000 of 2500. Elapsed: 0:11:30.\n",
            "Batch 1100 of 2500. Elapsed: 0:12:40.\n",
            "Batch 1200 of 2500. Elapsed: 0:13:49.\n",
            "Batch 1300 of 2500. Elapsed: 0:14:58.\n",
            "Batch 1400 of 2500. Elapsed: 0:16:07.\n",
            "Batch 1500 of 2500. Elapsed: 0:17:16.\n",
            "Batch 1600 of 2500. Elapsed: 0:18:25.\n",
            "Batch 1700 of 2500. Elapsed: 0:19:34.\n",
            "Batch 1800 of 2500. Elapsed: 0:20:43.\n",
            "Batch 1900 of 2500. Elapsed: 0:21:52.\n",
            "Batch 2000 of 2500. Elapsed: 0:23:01.\n",
            "Batch 2100 of 2500. Elapsed: 0:24:10.\n",
            "Batch 2200 of 2500. Elapsed: 0:25:19.\n",
            "Batch 2300 of 2500. Elapsed: 0:26:28.\n",
            "Batch 2400 of 2500. Elapsed: 0:27:37.\n",
            "Average training loss: 0.01436317175300792\n",
            "Training epoch took: 0:28:46\n",
            "Evaluating...\n",
            "Validation Loss: 0.013183799772523343\n",
            "Validation Accuracy: 0.98055\n",
            "Validation F1 Score: 0.9939896099491389\n",
            "Validation took: 0:02:19\n",
            "Epoch 3/3\n",
            "Training...\n",
            "Batch 100 of 2500. Elapsed: 0:01:09.\n",
            "Batch 200 of 2500. Elapsed: 0:02:18.\n",
            "Batch 300 of 2500. Elapsed: 0:03:27.\n",
            "Batch 400 of 2500. Elapsed: 0:04:36.\n",
            "Batch 500 of 2500. Elapsed: 0:05:45.\n",
            "Batch 600 of 2500. Elapsed: 0:06:54.\n",
            "Batch 700 of 2500. Elapsed: 0:08:03.\n",
            "Batch 800 of 2500. Elapsed: 0:09:13.\n",
            "Batch 900 of 2500. Elapsed: 0:10:22.\n",
            "Batch 1000 of 2500. Elapsed: 0:11:31.\n",
            "Batch 1100 of 2500. Elapsed: 0:12:40.\n",
            "Batch 1200 of 2500. Elapsed: 0:13:49.\n",
            "Batch 1300 of 2500. Elapsed: 0:14:58.\n",
            "Batch 1400 of 2500. Elapsed: 0:16:07.\n",
            "Batch 1500 of 2500. Elapsed: 0:17:16.\n",
            "Batch 1600 of 2500. Elapsed: 0:18:25.\n",
            "Batch 1700 of 2500. Elapsed: 0:19:34.\n",
            "Batch 1800 of 2500. Elapsed: 0:20:43.\n",
            "Batch 1900 of 2500. Elapsed: 0:21:52.\n",
            "Batch 2000 of 2500. Elapsed: 0:23:01.\n",
            "Batch 2100 of 2500. Elapsed: 0:24:10.\n",
            "Batch 2200 of 2500. Elapsed: 0:25:19.\n",
            "Batch 2300 of 2500. Elapsed: 0:26:28.\n",
            "Batch 2400 of 2500. Elapsed: 0:27:37.\n",
            "Average training loss: 0.011410985951963812\n",
            "Training epoch took: 0:28:46\n",
            "Evaluating...\n",
            "Validation Loss: 0.012593487619236112\n",
            "Validation Accuracy: 0.98105\n",
            "Validation F1 Score: 0.9941325766864418\n",
            "Validation took: 0:02:19\n"
          ]
        },
        {
          "output_type": "display_data",
          "data": {
            "text/plain": [
              "<Figure size 1200x800 with 2 Axes>"
            ],
            "image/png": "[encoded data removed]"
          },
          "metadata": {}
        }
      ],
      "source": [
        "import matplotlib.pyplot as plt\n",
        "\n",
        "train_losses = []\n",
        "val_losses = []\n",
        "val_accuracies = []\n",
        "val_f1s = []\n",
        "\n",
        "# Training loop\n",
        "for epoch_i in range(0, epochs):\n",
        "    print(f'Epoch {epoch_i + 1}/{epochs}')\n",
        "    print('Training...')\n",
        "\n",
        "    t0 = time.time()\n",
        "    avg_train_loss = train(model, optimizer, scheduler, train_dataloader, device)\n",
        "    training_time = format_time(time.time() - t0)\n",
        "\n",
        "    train_losses.append(avg_train_loss)\n",
        "\n",
        "    print(f'Average training loss: {avg_train_loss}')\n",
        "    print(f'Training epoch took: {training_time}')\n",
        "\n",
        "    print('Evaluating...')\n",
        "    t0 = time.time()\n",
        "    avg_val_loss, avg_val_accuracy, avg_val_f1 = evaluate(model, test_dataloader, device)\n",
        "    validation_time = format_time(time.time() - t0)\n",
        "\n",
        "    val_losses.append(avg_val_loss)\n",
        "    val_accuracies.append(avg_val_accuracy)\n",
        "    val_f1s.append(avg_val_f1)\n",
        "\n",
        "    print(f'Validation Loss: {avg_val_loss}')\n",
        "    print(f'Validation Accuracy: {avg_val_accuracy}')\n",
        "    print(f'Validation F1 Score: {avg_val_f1}')\n",
        "    print(f'Validation took: {validation_time}')\n",
        "\n",
        "\n",
        "epochs_range = range(1, epochs + 1)\n",
        "\n",
        "plt.figure(figsize=(12, 8))\n",
        "\n",
        "#training and validation loss plots\n",
        "plt.subplot(2, 1, 1)\n",
        "plt.plot(epochs_range, train_losses, label='Training Loss')\n",
        "plt.plot(epochs_range, val_losses, label='Validation Loss')\n",
        "plt.xlabel('Epochs')\n",
        "plt.ylabel('Loss')\n",
        "plt.title('Training and Validation Loss')\n",
        "plt.legend()\n",
        "\n",
        "# validation accuracy and F1 score plots\n",
        "plt.subplot(2, 1, 2)\n",
        "plt.plot(epochs_range, val_accuracies, label='Validation Accuracy')\n",
        "plt.plot(epochs_range, val_f1s, label='Validation F1 Score')\n",
        "plt.xlabel('Epochs')\n",
        "plt.ylabel('Metrics')\n",
        "plt.title('Validation Accuracy and F1 Score')\n",
        "plt.legend()\n",
        "\n",
        "plt.tight_layout()\n",
        "plt.show()\n"
      ]
    }
  ],
  "metadata": {
    "accelerator": "GPU",
    "colab": {
      "collapsed_sections": [
        "w874mU57EDcY",
        "anCKQkzxsy37",
        "1Jb8MlCnm9tB"
      ],
      "gpuType": "T4",
      "provenance": []
    },
    "kernelspec": {
      "display_name": "Python 3",
      "name": "python3"
    },
    "language_info": {
      "name": "python"
    },
    "widgets": {
      "application/vnd.jupyter.widget-state+json": {
        "b054009bbf1248c1b46b7af08212484b": {
          "model_module": "@jupyter-widgets/controls",
          "model_name": "HBoxModel",
          "model_module_version": "1.5.0",
          "state": {
            "_dom_classes": [],
            "_model_module": "@jupyter-widgets/controls",
            "_model_module_version": "1.5.0",
            "_model_name": "HBoxModel",
            "_view_count": null,
            "_view_module": "@jupyter-widgets/controls",
            "_view_module_version": "1.5.0",
            "_view_name": "HBoxView",
            "box_style": "",
            "children": [
              "IPY_MODEL_dea2f441cab24224a23740f5581d8045",
              "IPY_MODEL_f3bbf2398d024574936a1f6c2a205cd0",
              "IPY_MODEL_c75dc4b937ff405b923176306b2fc817"
            ],
            "layout": "IPY_MODEL_93a9407b3e6c4d9484ee038546bcdaa5"
          }
        },
        "dea2f441cab24224a23740f5581d8045": {
          "model_module": "@jupyter-widgets/controls",
          "model_name": "HTMLModel",
          "model_module_version": "1.5.0",
          "state": {
            "_dom_classes": [],
            "_model_module": "@jupyter-widgets/controls",
            "_model_module_version": "1.5.0",
            "_model_name": "HTMLModel",
            "_view_count": null,
            "_view_module": "@jupyter-widgets/controls",
            "_view_module_version": "1.5.0",
            "_view_name": "HTMLView",
            "description": "",
            "description_tooltip": null,
            "layout": "IPY_MODEL_2c9542466c7b49ee96334d13f75fa533",
            "placeholder": "​",
            "style": "IPY_MODEL_e7f14b7e0ab44c2ba9bbb9b816915be7",
            "value": "model.safetensors: 100%"
          }
        },
        "f3bbf2398d024574936a1f6c2a205cd0": {
          "model_module": "@jupyter-widgets/controls",
          "model_name": "FloatProgressModel",
          "model_module_version": "1.5.0",
          "state": {
            "_dom_classes": [],
            "_model_module": "@jupyter-widgets/controls",
            "_model_module_version": "1.5.0",
            "_model_name": "FloatProgressModel",
            "_view_count": null,
            "_view_module": "@jupyter-widgets/controls",
            "_view_module_version": "1.5.0",
            "_view_name": "ProgressView",
            "bar_style": "success",
            "description": "",
            "description_tooltip": null,
            "layout": "IPY_MODEL_ef744572a1234e76b2537309438ea9be",
            "max": 440449768,
            "min": 0,
            "orientation": "horizontal",
            "style": "IPY_MODEL_0fb5d8247c784ab38ed124bfe45fbeaa",
            "value": 440449768
          }
        },
        "c75dc4b937ff405b923176306b2fc817": {
          "model_module": "@jupyter-widgets/controls",
          "model_name": "HTMLModel",
          "model_module_version": "1.5.0",
          "state": {
            "_dom_classes": [],
            "_model_module": "@jupyter-widgets/controls",
            "_model_module_version": "1.5.0",
            "_model_name": "HTMLModel",
            "_view_count": null,
            "_view_module": "@jupyter-widgets/controls",
            "_view_module_version": "1.5.0",
            "_view_name": "HTMLView",
            "description": "",
            "description_tooltip": null,
            "layout": "IPY_MODEL_23530dc1bdb543adbf25dfd363240a6f",
            "placeholder": "​",
            "style": "IPY_MODEL_aa3018cf026c424f9766400b7a77cb9c",
            "value": " 440M/440M [00:03&lt;00:00, 84.9MB/s]"
          }
        },
        "93a9407b3e6c4d9484ee038546bcdaa5": {
          "model_module": "@jupyter-widgets/base",
          "model_name": "LayoutModel",
          "model_module_version": "1.2.0",
          "state": {
            "_model_module": "@jupyter-widgets/base",
            "_model_module_version": "1.2.0",
            "_model_name": "LayoutModel",
            "_view_count": null,
            "_view_module": "@jupyter-widgets/base",
            "_view_module_version": "1.2.0",
            "_view_name": "LayoutView",
            "align_content": null,
            "align_items": null,
            "align_self": null,
            "border": null,
            "bottom": null,
            "display": null,
            "flex": null,
            "flex_flow": null,
            "grid_area": null,
            "grid_auto_columns": null,
            "grid_auto_flow": null,
            "grid_auto_rows": null,
            "grid_column": null,
            "grid_gap": null,
            "grid_row": null,
            "grid_template_areas": null,
            "grid_template_columns": null,
            "grid_template_rows": null,
            "height": null,
            "justify_content": null,
            "justify_items": null,
            "left": null,
            "margin": null,
            "max_height": null,
            "max_width": null,
            "min_height": null,
            "min_width": null,
            "object_fit": null,
            "object_position": null,
            "order": null,
            "overflow": null,
            "overflow_x": null,
            "overflow_y": null,
            "padding": null,
            "right": null,
            "top": null,
            "visibility": null,
            "width": null
          }
        },
        "2c9542466c7b49ee96334d13f75fa533": {
          "model_module": "@jupyter-widgets/base",
          "model_name": "LayoutModel",
          "model_module_version": "1.2.0",
          "state": {
            "_model_module": "@jupyter-widgets/base",
            "_model_module_version": "1.2.0",
            "_model_name": "LayoutModel",
            "_view_count": null,
            "_view_module": "@jupyter-widgets/base",
            "_view_module_version": "1.2.0",
            "_view_name": "LayoutView",
            "align_content": null,
            "align_items": null,
            "align_self": null,
            "border": null,
            "bottom": null,
            "display": null,
            "flex": null,
            "flex_flow": null,
            "grid_area": null,
            "grid_auto_columns": null,
            "grid_auto_flow": null,
            "grid_auto_rows": null,
            "grid_column": null,
            "grid_gap": null,
            "grid_row": null,
            "grid_template_areas": null,
            "grid_template_columns": null,
            "grid_template_rows": null,
            "height": null,
            "justify_content": null,
            "justify_items": null,
            "left": null,
            "margin": null,
            "max_height": null,
            "max_width": null,
            "min_height": null,
            "min_width": null,
            "object_fit": null,
            "object_position": null,
            "order": null,
            "overflow": null,
            "overflow_x": null,
            "overflow_y": null,
            "padding": null,
            "right": null,
            "top": null,
            "visibility": null,
            "width": null
          }
        },
        "e7f14b7e0ab44c2ba9bbb9b816915be7": {
          "model_module": "@jupyter-widgets/controls",
          "model_name": "DescriptionStyleModel",
          "model_module_version": "1.5.0",
          "state": {
            "_model_module": "@jupyter-widgets/controls",
            "_model_module_version": "1.5.0",
            "_model_name": "DescriptionStyleModel",
            "_view_count": null,
            "_view_module": "@jupyter-widgets/base",
            "_view_module_version": "1.2.0",
            "_view_name": "StyleView",
            "description_width": ""
          }
        },
        "ef744572a1234e76b2537309438ea9be": {
          "model_module": "@jupyter-widgets/base",
          "model_name": "LayoutModel",
          "model_module_version": "1.2.0",
          "state": {
            "_model_module": "@jupyter-widgets/base",
            "_model_module_version": "1.2.0",
            "_model_name": "LayoutModel",
            "_view_count": null,
            "_view_module": "@jupyter-widgets/base",
            "_view_module_version": "1.2.0",
            "_view_name": "LayoutView",
            "align_content": null,
            "align_items": null,
            "align_self": null,
            "border": null,
            "bottom": null,
            "display": null,
            "flex": null,
            "flex_flow": null,
            "grid_area": null,
            "grid_auto_columns": null,
            "grid_auto_flow": null,
            "grid_auto_rows": null,
            "grid_column": null,
            "grid_gap": null,
            "grid_row": null,
            "grid_template_areas": null,
            "grid_template_columns": null,
            "grid_template_rows": null,
            "height": null,
            "justify_content": null,
            "justify_items": null,
            "left": null,
            "margin": null,
            "max_height": null,
            "max_width": null,
            "min_height": null,
            "min_width": null,
            "object_fit": null,
            "object_position": null,
            "order": null,
            "overflow": null,
            "overflow_x": null,
            "overflow_y": null,
            "padding": null,
            "right": null,
            "top": null,
            "visibility": null,
            "width": null
          }
        },
        "0fb5d8247c784ab38ed124bfe45fbeaa": {
          "model_module": "@jupyter-widgets/controls",
          "model_name": "ProgressStyleModel",
          "model_module_version": "1.5.0",
          "state": {
            "_model_module": "@jupyter-widgets/controls",
            "_model_module_version": "1.5.0",
            "_model_name": "ProgressStyleModel",
            "_view_count": null,
            "_view_module": "@jupyter-widgets/base",
            "_view_module_version": "1.2.0",
            "_view_name": "StyleView",
            "bar_color": null,
            "description_width": ""
          }
        },
        "23530dc1bdb543adbf25dfd363240a6f": {
          "model_module": "@jupyter-widgets/base",
          "model_name": "LayoutModel",
          "model_module_version": "1.2.0",
          "state": {
            "_model_module": "@jupyter-widgets/base",
            "_model_module_version": "1.2.0",
            "_model_name": "LayoutModel",
            "_view_count": null,
            "_view_module": "@jupyter-widgets/base",
            "_view_module_version": "1.2.0",
            "_view_name": "LayoutView",
            "align_content": null,
            "align_items": null,
            "align_self": null,
            "border": null,
            "bottom": null,
            "display": null,
            "flex": null,
            "flex_flow": null,
            "grid_area": null,
            "grid_auto_columns": null,
            "grid_auto_flow": null,
            "grid_auto_rows": null,
            "grid_column": null,
            "grid_gap": null,
            "grid_row": null,
            "grid_template_areas": null,
            "grid_template_columns": null,
            "grid_template_rows": null,
            "height": null,
            "justify_content": null,
            "justify_items": null,
            "left": null,
            "margin": null,
            "max_height": null,
            "max_width": null,
            "min_height": null,
            "min_width": null,
            "object_fit": null,
            "object_position": null,
            "order": null,
            "overflow": null,
            "overflow_x": null,
            "overflow_y": null,
            "padding": null,
            "right": null,
            "top": null,
            "visibility": null,
            "width": null
          }
        },
        "aa3018cf026c424f9766400b7a77cb9c": {
          "model_module": "@jupyter-widgets/controls",
          "model_name": "DescriptionStyleModel",
          "model_module_version": "1.5.0",
          "state": {
            "_model_module": "@jupyter-widgets/controls",
            "_model_module_version": "1.5.0",
            "_model_name": "DescriptionStyleModel",
            "_view_count": null,
            "_view_module": "@jupyter-widgets/base",
            "_view_module_version": "1.2.0",
            "_view_name": "StyleView",
            "description_width": ""
          }
        }
      }
    }
  },
  "nbformat": 4,
  "nbformat_minor": 0
}